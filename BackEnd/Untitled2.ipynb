{
 "cells": [
  {
   "cell_type": "code",
   "execution_count": null,
   "id": "516f9ba9",
   "metadata": {},
   "outputs": [
    {
     "name": "stdout",
     "output_type": "stream",
     "text": [
      " * Serving Flask app \"__main__\" (lazy loading)\n",
      " * Environment: production\n",
      "\u001b[31m   WARNING: This is a development server. Do not use it in a production deployment.\u001b[0m\n",
      "\u001b[2m   Use a production WSGI server instead.\u001b[0m\n",
      " * Debug mode: off\n"
     ]
    },
    {
     "name": "stderr",
     "output_type": "stream",
     "text": [
      " * Running on http://127.0.0.1:5000/ (Press CTRL+C to quit)\n",
      "127.0.0.1 - - [05/Nov/2023 02:21:52] \"OPTIONS /capture HTTP/1.1\" 200 -\n"
     ]
    },
    {
     "name": "stdout",
     "output_type": "stream",
     "text": [
      "[{'path': 'cer.jpg'}]\n",
      "1/1 [==============================] - 0s 28ms/step\n"
     ]
    },
    {
     "name": "stderr",
     "output_type": "stream",
     "text": [
      "127.0.0.1 - - [05/Nov/2023 02:21:53] \"POST /capture HTTP/1.1\" 200 -\n",
      "127.0.0.1 - - [05/Nov/2023 02:21:58] \"OPTIONS /capture HTTP/1.1\" 200 -\n"
     ]
    },
    {
     "name": "stdout",
     "output_type": "stream",
     "text": [
      "[{'path': 'cer.jpg'}]\n",
      "1/1 [==============================] - 0s 29ms/step\n"
     ]
    },
    {
     "name": "stderr",
     "output_type": "stream",
     "text": [
      "127.0.0.1 - - [05/Nov/2023 02:21:59] \"POST /capture HTTP/1.1\" 200 -\n",
      "127.0.0.1 - - [05/Nov/2023 02:25:19] \"OPTIONS /capture HTTP/1.1\" 200 -\n"
     ]
    },
    {
     "name": "stdout",
     "output_type": "stream",
     "text": [
      "[{'path': 'cer.jpg'}]\n",
      "1/1 [==============================] - 0s 29ms/step\n"
     ]
    },
    {
     "name": "stderr",
     "output_type": "stream",
     "text": [
      "127.0.0.1 - - [05/Nov/2023 02:25:20] \"POST /capture HTTP/1.1\" 200 -\n",
      "127.0.0.1 - - [05/Nov/2023 02:25:39] \"OPTIONS /capture HTTP/1.1\" 200 -\n"
     ]
    },
    {
     "name": "stdout",
     "output_type": "stream",
     "text": [
      "[{'path': 'cer.jpg'}]\n",
      "1/1 [==============================] - 0s 35ms/step\n"
     ]
    },
    {
     "name": "stderr",
     "output_type": "stream",
     "text": [
      "127.0.0.1 - - [05/Nov/2023 02:25:39] \"POST /capture HTTP/1.1\" 200 -\n",
      "127.0.0.1 - - [05/Nov/2023 02:27:57] \"OPTIONS /capture HTTP/1.1\" 200 -\n"
     ]
    },
    {
     "name": "stdout",
     "output_type": "stream",
     "text": [
      "[{'path': 'cer.jpg'}]\n",
      "1/1 [==============================] - 0s 31ms/step\n"
     ]
    },
    {
     "name": "stderr",
     "output_type": "stream",
     "text": [
      "127.0.0.1 - - [05/Nov/2023 02:27:58] \"POST /capture HTTP/1.1\" 200 -\n",
      "127.0.0.1 - - [05/Nov/2023 02:32:20] \"OPTIONS /capture HTTP/1.1\" 200 -\n"
     ]
    },
    {
     "name": "stdout",
     "output_type": "stream",
     "text": [
      "[{'path': 'cer.jpg'}]\n",
      "1/1 [==============================] - 0s 50ms/step\n"
     ]
    },
    {
     "name": "stderr",
     "output_type": "stream",
     "text": [
      "127.0.0.1 - - [05/Nov/2023 02:32:20] \"POST /capture HTTP/1.1\" 200 -\n",
      "127.0.0.1 - - [05/Nov/2023 02:32:27] \"OPTIONS /capture HTTP/1.1\" 200 -\n"
     ]
    },
    {
     "name": "stdout",
     "output_type": "stream",
     "text": [
      "[{'path': 'cer.jpg'}]\n",
      "1/1 [==============================] - 0s 29ms/step\n"
     ]
    },
    {
     "name": "stderr",
     "output_type": "stream",
     "text": [
      "127.0.0.1 - - [05/Nov/2023 02:32:27] \"POST /capture HTTP/1.1\" 200 -\n",
      "127.0.0.1 - - [05/Nov/2023 02:32:34] \"OPTIONS /capture HTTP/1.1\" 200 -\n"
     ]
    },
    {
     "name": "stdout",
     "output_type": "stream",
     "text": [
      "[{'path': 'cer.jpg'}]\n",
      "1/1 [==============================] - 0s 30ms/step\n"
     ]
    },
    {
     "name": "stderr",
     "output_type": "stream",
     "text": [
      "127.0.0.1 - - [05/Nov/2023 02:32:35] \"POST /capture HTTP/1.1\" 200 -\n",
      "127.0.0.1 - - [05/Nov/2023 02:32:59] \"OPTIONS /capture HTTP/1.1\" 200 -\n"
     ]
    },
    {
     "name": "stdout",
     "output_type": "stream",
     "text": [
      "[{'path': 'cer.jpg'}]\n",
      "1/1 [==============================] - 0s 28ms/step\n"
     ]
    },
    {
     "name": "stderr",
     "output_type": "stream",
     "text": [
      "127.0.0.1 - - [05/Nov/2023 02:33:00] \"POST /capture HTTP/1.1\" 200 -\n",
      "127.0.0.1 - - [05/Nov/2023 02:33:27] \"OPTIONS /capture HTTP/1.1\" 200 -\n"
     ]
    },
    {
     "name": "stdout",
     "output_type": "stream",
     "text": [
      "[{'path': 'cer.jpg'}]\n",
      "1/1 [==============================] - 0s 30ms/step\n"
     ]
    },
    {
     "name": "stderr",
     "output_type": "stream",
     "text": [
      "127.0.0.1 - - [05/Nov/2023 02:33:27] \"POST /capture HTTP/1.1\" 200 -\n",
      "127.0.0.1 - - [05/Nov/2023 02:33:57] \"OPTIONS /capture HTTP/1.1\" 200 -\n"
     ]
    },
    {
     "name": "stdout",
     "output_type": "stream",
     "text": [
      "[{'path': 'cer.jpg'}]\n",
      "1/1 [==============================] - 0s 26ms/step\n"
     ]
    },
    {
     "name": "stderr",
     "output_type": "stream",
     "text": [
      "127.0.0.1 - - [05/Nov/2023 02:33:58] \"POST /capture HTTP/1.1\" 200 -\n",
      "127.0.0.1 - - [05/Nov/2023 02:34:22] \"OPTIONS /capture HTTP/1.1\" 200 -\n"
     ]
    },
    {
     "name": "stdout",
     "output_type": "stream",
     "text": [
      "[{'path': 'cer.jpg'}]\n",
      "1/1 [==============================] - 0s 29ms/step\n"
     ]
    },
    {
     "name": "stderr",
     "output_type": "stream",
     "text": [
      "127.0.0.1 - - [05/Nov/2023 02:34:22] \"POST /capture HTTP/1.1\" 200 -\n",
      "127.0.0.1 - - [05/Nov/2023 07:35:26] \"OPTIONS /capture HTTP/1.1\" 200 -\n"
     ]
    },
    {
     "name": "stdout",
     "output_type": "stream",
     "text": [
      "[{'path': 'cer.jpg'}]\n",
      "1/1 [==============================] - 0s 254ms/step\n"
     ]
    },
    {
     "name": "stderr",
     "output_type": "stream",
     "text": [
      "127.0.0.1 - - [05/Nov/2023 07:35:27] \"POST /capture HTTP/1.1\" 200 -\n",
      "127.0.0.1 - - [05/Nov/2023 08:16:07] \"OPTIONS /capture HTTP/1.1\" 200 -\n"
     ]
    },
    {
     "name": "stdout",
     "output_type": "stream",
     "text": [
      "[{'path': 'cer.jpg'}]\n",
      "1/1 [==============================] - 0s 216ms/step\n"
     ]
    },
    {
     "name": "stderr",
     "output_type": "stream",
     "text": [
      "127.0.0.1 - - [05/Nov/2023 08:16:08] \"POST /capture HTTP/1.1\" 200 -\n",
      "127.0.0.1 - - [05/Nov/2023 08:16:26] \"OPTIONS /capture HTTP/1.1\" 200 -\n"
     ]
    },
    {
     "name": "stdout",
     "output_type": "stream",
     "text": [
      "[{'path': 'cer.jpg'}]\n",
      "1/1 [==============================] - 0s 67ms/step\n"
     ]
    },
    {
     "name": "stderr",
     "output_type": "stream",
     "text": [
      "127.0.0.1 - - [05/Nov/2023 08:16:26] \"POST /capture HTTP/1.1\" 200 -\n"
     ]
    }
   ],
   "source": [
    "from flask import Flask, request, jsonify\n",
    "from datetime import datetime\n",
    "import pandas as pd\n",
    "app = Flask(__name__)\n",
    "from pymongo import MongoClient\n",
    "import json\n",
    "from datetime import date\n",
    "import openai\n",
    "import cv2\n",
    "import numpy as np\n",
    "import tensorflow as tf\n",
    "import numpy as np\n",
    "import base64\n",
    "from deepface import DeepFace \n",
    "from flask import Flask, jsonify\n",
    "from pymongo import MongoClient\n",
    "from pymongo.errors import ServerSelectionTimeoutError\n",
    "from flask_cors import CORS\n",
    "#app = Flask(__name)\n",
    "CORS(app)\n",
    "@app.route('/capture', methods=['POST'])\n",
    "def get_cap():\n",
    "    data = request.get_json()\n",
    "    imgrec = data['image']\n",
    "    print(imgrec)\n",
    "    image_path = imgrec[0]['path']\n",
    "    image = cv2.imread(image_path)\n",
    "    img = cv2.resize(image, (128, 128))\n",
    "    img = np.array(img)\n",
    "    img = img.reshape(1, 128, 128, 3)\n",
    "    img = tf.convert_to_tensor(img)\n",
    "    \n",
    "    features = cnn_model.predict(img)\n",
    "    \n",
    "    pred = svm_model.predict(features)\n",
    "    pred = json.dumps(pred.tolist())\n",
    "    \n",
    "#     cnn_model = joblib.load(\"your_cnn_model.pkl\")\n",
    "#     svm_model = joblib.load(\"your_svm_model.pkl\")\n",
    "\n",
    "#     dat = data['date']\n",
    "    \n",
    "    # Get the JSON data sent from the client\n",
    "    # Process the data\n",
    "    # insert value into list in MongoDB.\n",
    "#     nparr = np.fromstring(base64.b64decode(imgrec.split(',')[1]), np.uint8)\n",
    "#     img = cv2.imdecode(nparr, cv2.IMREAD_COLOR)\n",
    "    \n",
    "#     cv2.imwrite('C:/Users/shora/arpita/'+'img.png',img) \n",
    "    \n",
    "#     objs = DeepFace.analyze(img_path = 'img.png', actions = ['age', 'gender', 'race', 'emotion'])\n",
    "    \n",
    "#     emotion = (objs[0]['dominant_emotion'])\n",
    "#     age = (objs[0]['age'])\n",
    "#     gender = (objs[0]['dominant_gender'])\n",
    "#     print(emotion)\n",
    "#     print(age)\n",
    "    \n",
    "    # Display the image using OpenCV\n",
    "#     cv2.imshow('Image from Flask Server', img)\n",
    "#     cv2.waitKey(0)\n",
    "#     cv2.destroyAllWindows()\n",
    "#        return\n",
    "    \n",
    "    return  ((pred))\n",
    "        # json_data = jsonify(mylist)\n",
    "#     return \n",
    "@app.route('/')\n",
    "def hello_world():\n",
    "    return 'Hello, World!'\n",
    "\n",
    "\n",
    "if __name__ == '__main__':\n",
    "    app.run()\n",
    "    "
   ]
  },
  {
   "cell_type": "code",
   "execution_count": 28,
   "id": "daaf141e",
   "metadata": {},
   "outputs": [
    {
     "name": "stdout",
     "output_type": "stream",
     "text": [
      "Keras model archive loading:\n",
      "File Name                                             Modified             Size\n",
      "config.json                                    2023-11-04 17:38:14         4537\n",
      "metadata.json                                  2023-11-04 17:38:14           64\n",
      "variables.h5                                   2023-11-04 17:38:14     34838200\n",
      "Keras weights file (<HDF5 file \"variables.h5\" (mode r)>) loading:\n",
      "...layers\\conv2d\n",
      "......vars\n",
      ".........0\n",
      ".........1\n",
      "...layers\\conv2d_1\n",
      "......vars\n",
      ".........0\n",
      ".........1\n",
      "...layers\\conv2d_2\n",
      "......vars\n",
      ".........0\n",
      ".........1\n",
      "...layers\\conv2d_3\n",
      "......vars\n",
      ".........0\n",
      ".........1\n",
      "...layers\\dense\n",
      "......vars\n",
      ".........0\n",
      ".........1\n",
      "...layers\\dense_1\n",
      "......vars\n",
      ".........0\n",
      ".........1\n",
      "...layers\\flatten\n",
      "......vars\n",
      "...layers\\flatten_1\n",
      "......vars\n",
      "...layers\\max_pooling2d\n",
      "......vars\n",
      "...layers\\max_pooling2d_1\n",
      "......vars\n",
      "...layers\\max_pooling2d_2\n",
      "......vars\n",
      "...metrics\\mean\n",
      "......vars\n",
      ".........0\n",
      ".........1\n",
      "...metrics\\mean_metric_wrapper\n",
      "......vars\n",
      ".........0\n",
      ".........1\n",
      "...optimizer\n",
      "......vars\n",
      ".........0\n",
      ".........1\n",
      ".........10\n",
      ".........11\n",
      ".........12\n",
      ".........13\n",
      ".........14\n",
      ".........15\n",
      ".........16\n",
      ".........17\n",
      ".........18\n",
      ".........19\n",
      ".........2\n",
      ".........20\n",
      ".........21\n",
      ".........22\n",
      ".........23\n",
      ".........24\n",
      ".........3\n",
      ".........4\n",
      ".........5\n",
      ".........6\n",
      ".........7\n",
      ".........8\n",
      ".........9\n",
      "...vars\n"
     ]
    }
   ],
   "source": [
    "\n",
    "import joblib\n",
    "cnn_model = joblib.load(\"cnn_model.pkl\")\n",
    "svm_model = joblib.load(\"svm_model.pkl\")"
   ]
  },
  {
   "cell_type": "code",
   "execution_count": 46,
   "id": "52d34270",
   "metadata": {},
   "outputs": [],
   "source": [
    "image = cv2.imread(\"cer.jpg\")"
   ]
  },
  {
   "cell_type": "code",
   "execution_count": 51,
   "id": "6b84f3db",
   "metadata": {},
   "outputs": [],
   "source": [
    "import numpy as np\n",
    "import tensorflow as tf"
   ]
  },
  {
   "cell_type": "code",
   "execution_count": 55,
   "id": "9a476b33",
   "metadata": {},
   "outputs": [],
   "source": [
    "img = cv2.resize(image, (128, 128))\n",
    "img = np.array(img)\n",
    "img = img.reshape(1, 128, 128, 3)\n",
    "img = tf.convert_to_tensor(img)"
   ]
  },
  {
   "cell_type": "code",
   "execution_count": 56,
   "id": "8527f505",
   "metadata": {},
   "outputs": [
    {
     "data": {
      "text/plain": [
       "TensorShape([1, 128, 128, 3])"
      ]
     },
     "execution_count": 56,
     "metadata": {},
     "output_type": "execute_result"
    }
   ],
   "source": [
    "img.shape"
   ]
  },
  {
   "cell_type": "code",
   "execution_count": 57,
   "id": "da04f59a",
   "metadata": {},
   "outputs": [
    {
     "name": "stdout",
     "output_type": "stream",
     "text": [
      "1/1 [==============================] - 0s 166ms/step\n"
     ]
    }
   ],
   "source": [
    "features = cnn_model.predict(img)"
   ]
  },
  {
   "cell_type": "code",
   "execution_count": 58,
   "id": "7d9330ce",
   "metadata": {},
   "outputs": [],
   "source": [
    "pred = svm_model.predict(features)"
   ]
  },
  {
   "cell_type": "code",
   "execution_count": 59,
   "id": "0028cbb0",
   "metadata": {},
   "outputs": [
    {
     "data": {
      "text/plain": [
       "array([1])"
      ]
     },
     "execution_count": 59,
     "metadata": {},
     "output_type": "execute_result"
    }
   ],
   "source": [
    "pred"
   ]
  },
  {
   "cell_type": "code",
   "execution_count": null,
   "id": "99d4b454",
   "metadata": {},
   "outputs": [],
   "source": []
  }
 ],
 "metadata": {
  "kernelspec": {
   "display_name": "Python 3 (ipykernel)",
   "language": "python",
   "name": "python3"
  },
  "language_info": {
   "codemirror_mode": {
    "name": "ipython",
    "version": 3
   },
   "file_extension": ".py",
   "mimetype": "text/x-python",
   "name": "python",
   "nbconvert_exporter": "python",
   "pygments_lexer": "ipython3",
   "version": "3.9.13"
  }
 },
 "nbformat": 4,
 "nbformat_minor": 5
}
